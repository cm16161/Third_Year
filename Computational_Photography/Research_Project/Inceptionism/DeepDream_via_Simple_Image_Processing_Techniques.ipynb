{
 "cells": [
  {
   "cell_type": "code",
   "execution_count": 1,
   "metadata": {},
   "outputs": [],
   "source": [
    "import cv2\n",
    "import numpy as np\n",
    "from matplotlib import pyplot as plt\n",
    "from matplotlib import image as mpimg\n",
    "from matplotlib import cm as cm \n",
    "from PIL import Image"
   ]
  },
  {
   "cell_type": "code",
   "execution_count": 2,
   "metadata": {},
   "outputs": [],
   "source": [
    "def line_enhancement_and_blur(imgBase, imgBody, edgeMethod=\"laplacian\",kernelSize = 5, alpha = 0.1):\n",
    "    if(edgeMethod == \"laplacian\"):\n",
    "        edgeImg = cv2.Laplacian(imgBase,cv2.CV_8U)\n",
    "    if(edgeMethod == \"sobelX\"):\n",
    "        edgeImg = cv2.Sobel(imgBase,cv2.CV_8U,1,0,ksize=5)\n",
    "    else:\n",
    "        edgeImg = cv2.Sobel(imgBase,cv2.CV_8U,0,1,ksize=5)\n",
    "        \n",
    "    blur = cv2.blur(edgeImg,(kernelSize,kernelSize),0)\n",
    "    height, width = imgBase.shape[:2]\n",
    "    imgBody =cv2.resize(imgBody,(width,height))\n",
    "    \n",
    "    beta=1-alpha\n",
    "    gamma=0\n",
    "    dst = np.uint8(alpha*(blur)+beta*(imgBody))\n",
    "    dst = cv2.applyColorMap(dst,cv2.COLORMAP_JET)\n",
    "    plt.subplot(121), plt.imshow(dst)\n",
    "    return dst"
   ]
  },
  {
   "cell_type": "code",
   "execution_count": 3,
   "metadata": {},
   "outputs": [],
   "source": [
    "def colourise_base_and_blur(imgBase, imgBody, edgeMethod=\"laplacian\",kernelSize = 5, alpha = 0.1):\n",
    "    if(edgeMethod == \"laplacian\"):\n",
    "        edgeImg = cv2.Laplacian(imgBase,cv2.CV_8U)\n",
    "    if(edgeMethod == \"sobelX\"):\n",
    "        edgeImg = cv2.Sobel(imgBase,cv2.CV_8U,1,0,ksize=5)\n",
    "    if(edgeMethod == \"sobelY\"):\n",
    "        edgeImg = cv2.Sobel(imgBase,cv2.CV_8U,0,1,ksize=5)\n",
    "    \n",
    "    height, width = imgBase.shape[:2]\n",
    "    imgBody =cv2.resize(imgBody,(width,height))\n",
    "    edgeImg = cv2.applyColorMap(edgeImg,cv2.COLORMAP_HSV)\n",
    "    blur = cv2.blur(edgeImg,(kernelSize,kernelSize),0)\n",
    "    beta=1-alpha\n",
    "    gamma=0\n",
    "    dst = np.uint8(alpha*(blur)+beta*(imgBody))\n",
    "    plt.subplot(121), plt.imshow(dst)\n",
    "    return dst"
   ]
  },
  {
   "cell_type": "code",
   "execution_count": 5,
   "metadata": {},
   "outputs": [],
   "source": [
    "def line_enhancement(imgBase, imgBody, edgeMethod,alpha = 0.1):\n",
    "    if(edgeMethod == \"laplacian\"):\n",
    "        edgeImg = cv2.Laplacian(imgBase,cv2.CV_8U)\n",
    "    if(edgeMethod == \"sobelX\"):\n",
    "        edgeImg = cv2.Sobel(imgBase,cv2.CV_8U,1,0,ksize=5)\n",
    "    else:\n",
    "        edgeImg = cv2.Sobel(imgBase,cv2.CV_8U,0,1,ksize=5)\n",
    "\n",
    "    height, width = imgBase.shape[:2]\n",
    "    imgBody =cv2.resize(imgBody,(width,height))\n",
    "\n",
    "    beta=1-alpha\n",
    "    gamma=0\n",
    "    dst = np.uint8(alpha*(edgeImg)+beta*(imgBody))\n",
    "    dst = cv2.applyColorMap(dst,cv2.COLORMAP_HSV)\n",
    "    plt.subplot(121), plt.imshow(dst)\n",
    "    return dst"
   ]
  },
  {
   "cell_type": "code",
   "execution_count": 6,
   "metadata": {},
   "outputs": [],
   "source": [
    "def colourise_base(imgBase, imgBody, edgeMethod,alpha = 0.1):\n",
    "    if(edgeMethod == \"laplacian\"):\n",
    "        edgeImg = cv2.Laplacian(imgBase,cv2.CV_8U)\n",
    "    if(edgeMethod == \"sobelX\"):\n",
    "        edgeImg = cv2.Sobel(imgBase,cv2.CV_8U,1,0,ksize=5)\n",
    "    if(edgeMethod == \"sobelY\"):\n",
    "        edgeImg = cv2.Sobel(imgBase,cv2.CV_8U,0,1,ksize=5)\n",
    "\n",
    "    height, width = imgBase.shape[:2]\n",
    "    imgBody =cv2.resize(imgBody,(width,height))\n",
    "    edgeImg = cv2.applyColorMap(edgeImg,cv2.COLORMAP_HSV)\n",
    "    beta=1-alpha\n",
    "    gamma=0\n",
    "    dst = np.uint8(alpha*(edgeImg)+beta*(imgBody))\n",
    "    plt.subplot(121), plt.imshow(dst)\n",
    "    return dst"
   ]
  },
  {
   "cell_type": "code",
   "execution_count": 7,
   "metadata": {},
   "outputs": [],
   "source": [
    "def sensitive_canny(imgBase, imgBody, minThresh = 10,maxThresh = 50, alpha = 0.1):\n",
    "        \n",
    "    edgeImg = cv2.Canny(imgBase,minThresh,maxThresh)\n",
    "    edgeImg = cv2.cvtColor(edgeImg,cv2.COLOR_GRAY2RGB)\n",
    "    height, width = imgBase.shape[:2]\n",
    "    imgBody =cv2.resize(imgBody,(width,height))\n",
    "    \n",
    "    beta=1-alpha\n",
    "    gamma=0\n",
    "    dst = np.uint8(alpha*(edgeImg)+beta*(imgBody))\n",
    "    dst = cv2.applyColorMap(dst,cv2.COLORMAP_JET)\n",
    "    plt.subplot(121), plt.imshow(dst)\n",
    "    return dst"
   ]
  },
  {
   "cell_type": "code",
   "execution_count": null,
   "metadata": {},
   "outputs": [],
   "source": [
    "img1 = cv2.imread(\"Strong-Lines-San-Francisco.jpg\")\n",
    "img2 = cv2.imread(\"flowers.jpg\")\n",
    "output = sensitive_canny(img2,img1,0.2)\n",
    "cv2.imwrite(\"testDSIPT(1).png\",output)"
   ]
  }
 ],
 "metadata": {
  "kernelspec": {
   "display_name": "Python 3",
   "language": "python",
   "name": "python3"
  },
  "language_info": {
   "codemirror_mode": {
    "name": "ipython",
    "version": 3
   },
   "file_extension": ".py",
   "mimetype": "text/x-python",
   "name": "python",
   "nbconvert_exporter": "python",
   "pygments_lexer": "ipython3",
   "version": "3.7.1"
  }
 },
 "nbformat": 4,
 "nbformat_minor": 2
}
