{
 "cells": [
  {
   "cell_type": "code",
   "execution_count": 36,
   "metadata": {},
   "outputs": [],
   "source": [
    "import cv2\n",
    "import numpy as np\n",
    "from matplotlib import pyplot as plt\n",
    "from matplotlib import image as mpimg\n",
    "from PIL import Image\n",
    "from random import randint"
   ]
  },
  {
   "cell_type": "code",
   "execution_count": 40,
   "metadata": {},
   "outputs": [],
   "source": [
    "colourMaps = {\n",
    "    0 : COLORMAP_AUTUMN,\n",
    "    1 : \"cv2.COLORMAP_BONE\",\n",
    "    2 : \"cv2.COLORMAP_JET\",\n",
    "    3 : \"cv2.COLORMAP_WINTER\",\n",
    "    4 : \"cv2.COLORMAP_RAINBOW\",\n",
    "    5 : \"cv2.COLORMAP_OCEAN\",\n",
    "    6 : \"cv2.COLORMAP_SUMMER\",\n",
    "    7 : \"cv2.COLORMAP_SPRING\",\n",
    "    8 : \"cv2.COLORMAP_COOL\",\n",
    "    9 : \"cv2.COLORMAP_HSV\",\n",
    "    10 : \"cv2.COLORMAP_PINK\",\n",
    "    11 : \"cv2.COLORMAP_HOT\"\n",
    "}"
   ]
  },
  {
   "cell_type": "code",
   "execution_count": 46,
   "metadata": {},
   "outputs": [
    {
     "name": "stdout",
     "output_type": "stream",
     "text": [
      "cv2.COLORMAP_JET\n"
     ]
    }
   ],
   "source": [
    "print(colourMaps[2])"
   ]
  },
  {
   "cell_type": "code",
   "execution_count": 49,
   "metadata": {},
   "outputs": [],
   "source": [
    "def line_enhancement(imgBase, imgBody, edgeMethod,alpha = 0.1, map = randint(0,11)):\n",
    "    if(edgeMethod == \"laplacian\"):\n",
    "        edgeImg = cv2.Laplacian(imgBase,cv2.CV_64F)\n",
    "    if(edgeMethod == \"sobelX\"):\n",
    "        edgeImg = cv2.Sobel(imgBase,cv2.CV_64F,1,0,ksize=5)\n",
    "    if(edgeMethod == \"sobelY\"):\n",
    "        edgeImg = cv2.Sobel(imgBase,cv2.CV_64F,0,1,ksize=5)\n",
    "\n",
    "    height, width = imgBase.shape[:2]\n",
    "    imgBody =cv2.resize(imgBody,(width,height))\n",
    "\n",
    "    beta=1-alpha\n",
    "    gamma=0\n",
    "    dst = np.uint8(alpha*(edgeImg)+beta*(imgBody))\n",
    "    dst = cv2.applyColorMap(dst,cv2.colourMaps[0])\n",
    "    plt.subplot(121), plt.imshow(dst)\n",
    "    return dst"
   ]
  },
  {
   "cell_type": "code",
   "execution_count": 50,
   "metadata": {},
   "outputs": [
    {
     "ename": "AttributeError",
     "evalue": "module 'cv2' has no attribute 'colourMaps'",
     "output_type": "error",
     "traceback": [
      "\u001b[0;31m---------------------------------------------------------------------------\u001b[0m",
      "\u001b[0;31mAttributeError\u001b[0m                            Traceback (most recent call last)",
      "\u001b[0;32m<ipython-input-50-aa7fcf6d0b38>\u001b[0m in \u001b[0;36m<module>\u001b[0;34m()\u001b[0m\n\u001b[1;32m      1\u001b[0m \u001b[0mimgBase\u001b[0m \u001b[0;34m=\u001b[0m \u001b[0mcv2\u001b[0m\u001b[0;34m.\u001b[0m\u001b[0mimread\u001b[0m\u001b[0;34m(\u001b[0m\u001b[0;34m\"Strong-Lines-San-Francisco.jpg\"\u001b[0m\u001b[0;34m,\u001b[0m\u001b[0;36m0\u001b[0m\u001b[0;34m)\u001b[0m\u001b[0;34m\u001b[0m\u001b[0;34m\u001b[0m\u001b[0m\n\u001b[1;32m      2\u001b[0m \u001b[0mimgBody\u001b[0m \u001b[0;34m=\u001b[0m \u001b[0mcv2\u001b[0m\u001b[0;34m.\u001b[0m\u001b[0mimread\u001b[0m\u001b[0;34m(\u001b[0m\u001b[0;34m\"flowers.jpg\"\u001b[0m\u001b[0;34m,\u001b[0m\u001b[0;36m0\u001b[0m\u001b[0;34m)\u001b[0m\u001b[0;34m\u001b[0m\u001b[0;34m\u001b[0m\u001b[0m\n\u001b[0;32m----> 3\u001b[0;31m \u001b[0moutput\u001b[0m \u001b[0;34m=\u001b[0m \u001b[0mline_enhancement\u001b[0m\u001b[0;34m(\u001b[0m\u001b[0mimgBase\u001b[0m\u001b[0;34m,\u001b[0m\u001b[0mimgBody\u001b[0m\u001b[0;34m,\u001b[0m\u001b[0;34m\"sobelY\"\u001b[0m\u001b[0;34m)\u001b[0m\u001b[0;34m\u001b[0m\u001b[0;34m\u001b[0m\u001b[0m\n\u001b[0m\u001b[1;32m      4\u001b[0m \u001b[0mcv2\u001b[0m\u001b[0;34m.\u001b[0m\u001b[0mimwrite\u001b[0m\u001b[0;34m(\u001b[0m\u001b[0;34m\"flower_sanfranlines.png\"\u001b[0m\u001b[0;34m,\u001b[0m\u001b[0moutput\u001b[0m\u001b[0;34m)\u001b[0m\u001b[0;34m\u001b[0m\u001b[0;34m\u001b[0m\u001b[0m\n",
      "\u001b[0;32m<ipython-input-49-2be16451800c>\u001b[0m in \u001b[0;36mline_enhancement\u001b[0;34m(imgBase, imgBody, edgeMethod, alpha, map)\u001b[0m\n\u001b[1;32m     13\u001b[0m     \u001b[0mgamma\u001b[0m\u001b[0;34m=\u001b[0m\u001b[0;36m0\u001b[0m\u001b[0;34m\u001b[0m\u001b[0;34m\u001b[0m\u001b[0m\n\u001b[1;32m     14\u001b[0m     \u001b[0mdst\u001b[0m \u001b[0;34m=\u001b[0m \u001b[0mnp\u001b[0m\u001b[0;34m.\u001b[0m\u001b[0muint8\u001b[0m\u001b[0;34m(\u001b[0m\u001b[0malpha\u001b[0m\u001b[0;34m*\u001b[0m\u001b[0;34m(\u001b[0m\u001b[0medgeImg\u001b[0m\u001b[0;34m)\u001b[0m\u001b[0;34m+\u001b[0m\u001b[0mbeta\u001b[0m\u001b[0;34m*\u001b[0m\u001b[0;34m(\u001b[0m\u001b[0mimgBody\u001b[0m\u001b[0;34m)\u001b[0m\u001b[0;34m)\u001b[0m\u001b[0;34m\u001b[0m\u001b[0;34m\u001b[0m\u001b[0m\n\u001b[0;32m---> 15\u001b[0;31m     \u001b[0mdst\u001b[0m \u001b[0;34m=\u001b[0m \u001b[0mcv2\u001b[0m\u001b[0;34m.\u001b[0m\u001b[0mapplyColorMap\u001b[0m\u001b[0;34m(\u001b[0m\u001b[0mdst\u001b[0m\u001b[0;34m,\u001b[0m\u001b[0mcv2\u001b[0m\u001b[0;34m.\u001b[0m\u001b[0mcolourMaps\u001b[0m\u001b[0;34m[\u001b[0m\u001b[0;36m0\u001b[0m\u001b[0;34m]\u001b[0m\u001b[0;34m)\u001b[0m\u001b[0;34m\u001b[0m\u001b[0;34m\u001b[0m\u001b[0m\n\u001b[0m\u001b[1;32m     16\u001b[0m     \u001b[0mplt\u001b[0m\u001b[0;34m.\u001b[0m\u001b[0msubplot\u001b[0m\u001b[0;34m(\u001b[0m\u001b[0;36m121\u001b[0m\u001b[0;34m)\u001b[0m\u001b[0;34m,\u001b[0m \u001b[0mplt\u001b[0m\u001b[0;34m.\u001b[0m\u001b[0mimshow\u001b[0m\u001b[0;34m(\u001b[0m\u001b[0mdst\u001b[0m\u001b[0;34m)\u001b[0m\u001b[0;34m\u001b[0m\u001b[0;34m\u001b[0m\u001b[0m\n\u001b[1;32m     17\u001b[0m     \u001b[0;32mreturn\u001b[0m \u001b[0mdst\u001b[0m\u001b[0;34m\u001b[0m\u001b[0;34m\u001b[0m\u001b[0m\n",
      "\u001b[0;31mAttributeError\u001b[0m: module 'cv2' has no attribute 'colourMaps'"
     ]
    }
   ],
   "source": [
    "imgBase = cv2.imread(\"Strong-Lines-San-Francisco.jpg\",0)\n",
    "imgBody = cv2.imread(\"flowers.jpg\",0)\n",
    "output = line_enhancement(imgBase,imgBody,\"sobelY\")\n",
    "cv2.imwrite(\"flower_sanfranlines.png\",output)"
   ]
  },
  {
   "cell_type": "code",
   "execution_count": null,
   "metadata": {},
   "outputs": [],
   "source": []
  }
 ],
 "metadata": {
  "kernelspec": {
   "display_name": "Python 3",
   "language": "python",
   "name": "python3"
  },
  "language_info": {
   "codemirror_mode": {
    "name": "ipython",
    "version": 3
   },
   "file_extension": ".py",
   "mimetype": "text/x-python",
   "name": "python",
   "nbconvert_exporter": "python",
   "pygments_lexer": "ipython3",
   "version": "3.7.1"
  }
 },
 "nbformat": 4,
 "nbformat_minor": 2
}
