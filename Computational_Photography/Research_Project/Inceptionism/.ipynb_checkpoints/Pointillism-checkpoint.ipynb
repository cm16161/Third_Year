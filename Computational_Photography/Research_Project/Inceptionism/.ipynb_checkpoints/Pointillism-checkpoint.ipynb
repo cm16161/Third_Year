{
 "cells": [
  {
   "cell_type": "markdown",
   "metadata": {},
   "source": [
    "### Import necessary libraries"
   ]
  },
  {
   "cell_type": "code",
   "execution_count": 45,
   "metadata": {},
   "outputs": [],
   "source": [
    "import scipy.spatial\n",
    "import numpy as np\n",
    "import random\n",
    "import cv2\n",
    "import math\n",
    "import time\n",
    "from matplotlib import pyplot as plt\n",
    "from sklearn.cluster import KMeans\n",
    "from PIL import Image"
   ]
  },
  {
   "cell_type": "markdown",
   "metadata": {},
   "source": [
    "### Utility functions"
   ]
  },
  {
   "cell_type": "code",
   "execution_count": 46,
   "metadata": {},
   "outputs": [],
   "source": [
    "\n",
    "def compute_color_probabilities(pixels, palette):\n",
    "    distances = scipy.spatial.distance.cdist(pixels, palette)\n",
    "    maxima = np.amax(distances, axis=1)\n",
    "\n",
    "    distances = maxima[:, None] - distances\n",
    "    summ = np.sum(distances, 1)\n",
    "    distances /= summ[:, None]\n",
    "    return distances\n",
    "\n",
    "def get_color_from_prob(probabilities, palette, rand=False):\n",
    "    probs = np.argsort(probabilities)\n",
    "    i = probs[-1]\n",
    "    if rand:\n",
    "        r = random.uniform(0,1)\n",
    "        if r<=0.1: i = probs[random.randint(max(0, probabilities.shape[0] - 3), probabilities.shape[0] - 1)]\n",
    "    return palette[i]\n",
    "\n",
    "def randomized_grid(h, w, scale):\n",
    "    assert (scale > 0)\n",
    "\n",
    "    r = scale//2\n",
    "\n",
    "    grid = []\n",
    "    for i in range(0, h, scale):\n",
    "        for j in range(0, w, scale):\n",
    "            y = random.randint(-r, r) + i\n",
    "            x = random.randint(-r, r) + j\n",
    "\n",
    "            grid.append((y % h, x % w))\n",
    "\n",
    "    random.shuffle(grid)\n",
    "    return grid\n",
    "\n",
    "\n",
    "def limit_size(img, max_x, max_y=0):\n",
    "    if max_x == 0:\n",
    "        return img\n",
    "\n",
    "    if max_y == 0:\n",
    "        max_y = max_x\n",
    "\n",
    "    ratio = min(1.0, float(max_x) / img.shape[1], float(max_y) / img.shape[0])\n",
    "\n",
    "    if ratio != 1.0:\n",
    "        shape = (int(img.shape[1] * ratio), int(img.shape[0] * ratio))\n",
    "        return cv2.resize(img, shape, interpolation=cv2.INTER_AREA)\n",
    "    else:\n",
    "        return img\n",
    "\n",
    "def get_color_palette(img, n=10, scale=200):\n",
    "    # scale down the image to speedup kmeans\n",
    "    img = limit_size(img, scale)\n",
    "\n",
    "    clt = KMeans(n_clusters=n)\n",
    "    clt.fit(img.reshape(-1, 3))\n",
    "\n",
    "    return clt.cluster_centers_\n",
    "\n",
    "def complement(colors):\n",
    "    return 255 - colors"
   ]
  },
  {
   "cell_type": "markdown",
   "metadata": {},
   "source": [
    "### Pointillism function"
   ]
  },
  {
   "cell_type": "code",
   "execution_count": 43,
   "metadata": {},
   "outputs": [],
   "source": [
    "def create_pointillism_art(img, primary_colors,rand=False):\n",
    "    \n",
    "#     start_time = time.time()\n",
    "    \n",
    "#     img = cv2.imread(image_path)\n",
    "    \n",
    "    radius_width = int(math.ceil(max(img.shape) / 1000))\n",
    "#     print(\"Radius width: %d\" % radius_width)\n",
    "\n",
    "    palette = get_color_palette(img,primary_colors)\n",
    "    complements = complement(palette)\n",
    "    palette = np.vstack((palette,complements))\n",
    "#     print(\"Color Palette Computed\")\n",
    "    \n",
    "#     print(\"Drawing image...\")\n",
    "    \n",
    "    canvas = np.zeros((img.shape[0], img.shape[1], 3), np.uint8)\n",
    "    canvas[:,:] = (255,255,255)\n",
    "\n",
    "    grid = randomized_grid(img.shape[0], img.shape[1], scale=3)\n",
    "\n",
    "    pixel_colors = np.array([img[x[0], x[1]] for x in grid])\n",
    "    \n",
    "    color_probabilities = compute_color_probabilities(pixel_colors, palette)\n",
    "\n",
    "    for i, (y, x) in enumerate(grid):\n",
    "        color = get_color_from_prob(color_probabilities[i], palette, rand=rand)\n",
    "        cv2.ellipse(canvas, (x, y), (radius_width, radius_width), 0, 0, 360, color, -1, cv2.LINE_AA)\n",
    "\n",
    "#     plt.imshow(cv2.cvtColor(canvas, cv2.COLOR_BGR2RGB))\n",
    "#     cv2.imwrite(save_path, canvas)\n",
    "    canvas = cv2.cvtColor(canvas,cv2.COLOR_BGR2RGB)\n",
    "    rgb = PIL.fromarray(canvas)\n",
    "    return rgb\n",
    "    \n",
    "#     print (\"Total Time taken: %d seconds\" % round(time.time() - start_time, 2))"
   ]
  },
  {
   "cell_type": "markdown",
   "metadata": {},
   "source": [
    "### Sample run"
   ]
  },
  {
   "cell_type": "code",
   "execution_count": 44,
   "metadata": {},
   "outputs": [
    {
     "ename": "NameError",
     "evalue": "name 'PIL' is not defined",
     "output_type": "error",
     "traceback": [
      "\u001b[0;31m---------------------------------------------------------------------------\u001b[0m",
      "\u001b[0;31mNameError\u001b[0m                                 Traceback (most recent call last)",
      "\u001b[0;32m<ipython-input-44-d635c5d2afde>\u001b[0m in \u001b[0;36m<module>\u001b[0;34m()\u001b[0m\n\u001b[1;32m      1\u001b[0m \u001b[0mimg\u001b[0m \u001b[0;34m=\u001b[0m \u001b[0mcv2\u001b[0m\u001b[0;34m.\u001b[0m\u001b[0mimread\u001b[0m\u001b[0;34m(\u001b[0m\u001b[0;34m\"Strong-Lines-San-Francisco.jpg\"\u001b[0m\u001b[0;34m)\u001b[0m\u001b[0;34m\u001b[0m\u001b[0;34m\u001b[0m\u001b[0m\n\u001b[0;32m----> 2\u001b[0;31m \u001b[0mcreate_pointillism_art\u001b[0m\u001b[0;34m(\u001b[0m\u001b[0mimg\u001b[0m\u001b[0;34m,\u001b[0m \u001b[0;36m10\u001b[0m\u001b[0;34m,\u001b[0m \u001b[0mrand\u001b[0m\u001b[0;34m=\u001b[0m\u001b[0;32mTrue\u001b[0m\u001b[0;34m)\u001b[0m\u001b[0;34m\u001b[0m\u001b[0;34m\u001b[0m\u001b[0m\n\u001b[0m",
      "\u001b[0;32m<ipython-input-43-dc2ec46b595d>\u001b[0m in \u001b[0;36mcreate_pointillism_art\u001b[0;34m(img, primary_colors, rand)\u001b[0m\n\u001b[1;32m     31\u001b[0m \u001b[0;31m#     cv2.imwrite(save_path, canvas)\u001b[0m\u001b[0;34m\u001b[0m\u001b[0;34m\u001b[0m\u001b[0;34m\u001b[0m\u001b[0m\n\u001b[1;32m     32\u001b[0m     \u001b[0mcanvas\u001b[0m \u001b[0;34m=\u001b[0m \u001b[0mcv2\u001b[0m\u001b[0;34m.\u001b[0m\u001b[0mcvtColor\u001b[0m\u001b[0;34m(\u001b[0m\u001b[0mcanvas\u001b[0m\u001b[0;34m,\u001b[0m\u001b[0mcv2\u001b[0m\u001b[0;34m.\u001b[0m\u001b[0mCOLOR_BGR2RGB\u001b[0m\u001b[0;34m)\u001b[0m\u001b[0;34m\u001b[0m\u001b[0;34m\u001b[0m\u001b[0m\n\u001b[0;32m---> 33\u001b[0;31m     \u001b[0mrgb\u001b[0m \u001b[0;34m=\u001b[0m \u001b[0mPIL\u001b[0m\u001b[0;34m.\u001b[0m\u001b[0mfromarray\u001b[0m\u001b[0;34m(\u001b[0m\u001b[0mcanvas\u001b[0m\u001b[0;34m)\u001b[0m\u001b[0;34m\u001b[0m\u001b[0;34m\u001b[0m\u001b[0m\n\u001b[0m\u001b[1;32m     34\u001b[0m     \u001b[0;32mreturn\u001b[0m \u001b[0mrgb\u001b[0m\u001b[0;34m\u001b[0m\u001b[0;34m\u001b[0m\u001b[0m\n\u001b[1;32m     35\u001b[0m \u001b[0;34m\u001b[0m\u001b[0m\n",
      "\u001b[0;31mNameError\u001b[0m: name 'PIL' is not defined"
     ]
    }
   ],
   "source": [
    "img = cv2.imread(\"Strong-Lines-San-Francisco.jpg\")\n",
    "create_pointillism_art(img, 10, rand=True)"
   ]
  },
  {
   "cell_type": "code",
   "execution_count": null,
   "metadata": {},
   "outputs": [],
   "source": []
  }
 ],
 "metadata": {
  "kernelspec": {
   "display_name": "Python 3",
   "language": "python",
   "name": "python3"
  },
  "language_info": {
   "codemirror_mode": {
    "name": "ipython",
    "version": 3
   },
   "file_extension": ".py",
   "mimetype": "text/x-python",
   "name": "python",
   "nbconvert_exporter": "python",
   "pygments_lexer": "ipython3",
   "version": "3.7.1"
  }
 },
 "nbformat": 4,
 "nbformat_minor": 2
}
